{
  "cells": [
    {
      "cell_type": "markdown",
      "metadata": {
        "id": "view-in-github",
        "colab_type": "text"
      },
      "source": [
        "<a href=\"https://colab.research.google.com/github/NesyaGardanti/E-Commerce-ProyekAkhir/blob/main/E_Commerce_(Proyek_Akhir).ipynb\" target=\"_parent\"><img src=\"https://colab.research.google.com/assets/colab-badge.svg\" alt=\"Open In Colab\"/></a>"
      ]
    },
    {
      "cell_type": "markdown",
      "metadata": {
        "id": "H9wADwK78DCz"
      },
      "source": [
        "# Proyek Analisis Data: [E-Commerce-Public-Database (Proyek Akhir)]\n",
        "- **Nama:** [Nesya Gardanti]\n",
        "- **Email:** [M012D4KX1552@bangkit.academy]\n",
        "- **ID Dicoding:** [M012D4KX1552]"
      ]
    },
    {
      "cell_type": "markdown",
      "metadata": {
        "id": "eE0raob58DC0"
      },
      "source": [
        "## Menentukan Pertanyaan Bisnis"
      ]
    },
    {
      "cell_type": "markdown",
      "metadata": {
        "id": "GmQeQ5YF8DC0"
      },
      "source": [
        "\n",
        "1.   Which state generates the most customers?\n",
        "2.   What is the most frequently used payment type?\n",
        "\n"
      ]
    },
    {
      "cell_type": "markdown",
      "metadata": {
        "id": "H-z4QGlO8DC1"
      },
      "source": [
        "## Import Semua Packages/Library yang Digunakan"
      ]
    },
    {
      "cell_type": "code",
      "execution_count": null,
      "metadata": {
        "id": "FVYwaObI8DC1"
      },
      "outputs": [],
      "source": [
        "import pandas as pd\n",
        "import numpy as np\n",
        "from google.colab import drive\n",
        "drive.mount('/content/drive')"
      ]
    },
    {
      "cell_type": "markdown",
      "metadata": {
        "id": "h_Sh51Xy8DC1"
      },
      "source": [
        "## Data Wrangling"
      ]
    },
    {
      "cell_type": "markdown",
      "metadata": {
        "id": "sXU2GBYu8DC1"
      },
      "source": [
        "### Gathering Data"
      ]
    },
    {
      "cell_type": "markdown",
      "metadata": {
        "id": "onBUx_hAZpvo"
      },
      "source": [
        "The initial stage of the data wrangling process starts with data collection, where this step involves gathering all the information needed to answer the question or solve the business problem at hand."
      ]
    },
    {
      "cell_type": "code",
      "execution_count": null,
      "metadata": {
        "id": "zjCBk1BI8DC1"
      },
      "outputs": [],
      "source": [
        "file_CustomersDataset=\"/content/drive/MyDrive/E-Commerce (Proyek Akhir)/customers_dataset.csv\"\n",
        "customers_df = pd.read_csv(file_CustomersDataset)\n",
        "customers_df.head()"
      ]
    },
    {
      "cell_type": "code",
      "execution_count": null,
      "metadata": {
        "id": "YiqNUrby5vxE"
      },
      "outputs": [],
      "source": [
        "file_ProductDataset=\"/content/drive/MyDrive/E-Commerce (Proyek Akhir)/products_dataset.csv\"\n",
        "product_df = pd.read_csv(file_ProductDataset)\n",
        "product_df.head()"
      ]
    },
    {
      "cell_type": "code",
      "execution_count": null,
      "metadata": {
        "id": "LF8ybjgE5xdt"
      },
      "outputs": [],
      "source": [
        "file_GeolocationDataset=\"/content/drive/MyDrive/E-Commerce (Proyek Akhir)/geolocation_dataset.csv\"\n",
        "geolocation_df = pd.read_csv(file_GeolocationDataset)\n",
        "geolocation_df.head()"
      ]
    },
    {
      "cell_type": "code",
      "execution_count": null,
      "metadata": {
        "id": "BmDdMfyl58Fr"
      },
      "outputs": [],
      "source": [
        "file_SellersDataset=\"/content/drive/MyDrive/E-Commerce (Proyek Akhir)/sellers_dataset.csv\"\n",
        "sellers_df = pd.read_csv(file_SellersDataset)\n",
        "sellers_df.head()"
      ]
    },
    {
      "cell_type": "code",
      "execution_count": null,
      "metadata": {
        "id": "nMyalIRM59R8"
      },
      "outputs": [],
      "source": [
        "file_OrdersDataset=\"/content/drive/MyDrive/E-Commerce (Proyek Akhir)/orders_dataset.csv\"\n",
        "orders_df = pd.read_csv(file_OrdersDataset)\n",
        "orders_df.head()"
      ]
    },
    {
      "cell_type": "code",
      "execution_count": null,
      "metadata": {
        "id": "3Ug3nDZY6DZX"
      },
      "outputs": [],
      "source": [
        "file_OrderReviewsDataset=\"/content/drive/MyDrive/E-Commerce (Proyek Akhir)/order_reviews_dataset.csv\"\n",
        "order_reviews_df = pd.read_csv(file_OrderReviewsDataset)\n",
        "order_reviews_df.head()"
      ]
    },
    {
      "cell_type": "code",
      "execution_count": null,
      "metadata": {
        "id": "JMGO9pF76IXl"
      },
      "outputs": [],
      "source": [
        "file_OrderItemsDataset=\"/content/drive/MyDrive/E-Commerce (Proyek Akhir)/order_items_dataset.csv\"\n",
        "order_items_df = pd.read_csv(file_OrderItemsDataset)\n",
        "order_items_df.head()"
      ]
    },
    {
      "cell_type": "code",
      "execution_count": null,
      "metadata": {
        "id": "sagK-QR86N1h"
      },
      "outputs": [],
      "source": [
        "file_OrderPaymentsDataset=\"/content/drive/MyDrive/E-Commerce (Proyek Akhir)/order_payments_dataset.csv\"\n",
        "order_payments_df = pd.read_csv(file_OrderPaymentsDataset)\n",
        "order_payments_df.head()"
      ]
    },
    {
      "cell_type": "code",
      "execution_count": null,
      "metadata": {
        "id": "0idSaXhh6Tds"
      },
      "outputs": [],
      "source": [
        "file_ProductCategoryNameTranslation=\"/content/drive/MyDrive/E-Commerce (Proyek Akhir)/product_category_name_translation.csv\"\n",
        "product_category_name_translation_df = pd.read_csv(file_ProductCategoryNameTranslation)\n",
        "product_category_name_translation_df.head()"
      ]
    },
    {
      "cell_type": "markdown",
      "metadata": {
        "id": "FHSiqaZp8DC1"
      },
      "source": [
        "### Assessing Data"
      ]
    },
    {
      "cell_type": "markdown",
      "metadata": {
        "id": "fed72paYaFi2"
      },
      "source": [
        "Once the necessary data has been collected, the next step is to evaluate the data. The purpose of this process is to evaluate the quality and structure of the data and identify potential problems such as missing values, non-standard values, and so on."
      ]
    },
    {
      "cell_type": "markdown",
      "metadata": {
        "id": "THxrqxUDvYZd"
      },
      "source": [
        "# CUSTOMERS\n",
        "\n"
      ]
    },
    {
      "cell_type": "markdown",
      "metadata": {
        "id": "vigRD9fj8WEd"
      },
      "source": [
        "After checking or assessing the **customer_df** is safe, we can see from the **RangeIndex** of the **customer_df** and there is no missing or duplicated data."
      ]
    },
    {
      "cell_type": "code",
      "execution_count": null,
      "metadata": {
        "id": "ax-3tEjc9Cj1"
      },
      "outputs": [],
      "source": [
        "customers_df.info()"
      ]
    },
    {
      "cell_type": "code",
      "execution_count": null,
      "metadata": {
        "id": "wJHmkpb5vfGu"
      },
      "outputs": [],
      "source": [
        "customers_df.isna().sum()"
      ]
    },
    {
      "cell_type": "code",
      "execution_count": null,
      "metadata": {
        "id": "ruw9LE4mvsvs"
      },
      "outputs": [],
      "source": [
        "customers_df.describe()"
      ]
    },
    {
      "cell_type": "code",
      "execution_count": null,
      "metadata": {
        "id": "bs6TLWL0v54S"
      },
      "outputs": [],
      "source": [
        "print(\"Jumlah duplikasi: \",customers_df.duplicated().sum())"
      ]
    },
    {
      "cell_type": "markdown",
      "metadata": {
        "id": "a2YTKBYCwIzu"
      },
      "source": [
        "# PRODUCT"
      ]
    },
    {
      "cell_type": "markdown",
      "metadata": {
        "id": "aWdcujxg-mZw"
      },
      "source": [
        "There is an issue with the amount of data in a column in **product_df**. The sum of the data is inconsistent, indicating missing values."
      ]
    },
    {
      "cell_type": "code",
      "execution_count": null,
      "metadata": {
        "id": "Oqn__UBK6hV_"
      },
      "outputs": [],
      "source": [
        "product_df.info()"
      ]
    },
    {
      "cell_type": "code",
      "execution_count": null,
      "metadata": {
        "id": "-QJ1zJci6i1h"
      },
      "outputs": [],
      "source": [
        "product_df.isna().sum()"
      ]
    },
    {
      "cell_type": "code",
      "execution_count": null,
      "metadata": {
        "id": "mMW2xN7T6sCF"
      },
      "outputs": [],
      "source": [
        "print(\"Jumlah duplikasi: \",product_df.duplicated().sum())"
      ]
    },
    {
      "cell_type": "code",
      "execution_count": null,
      "metadata": {
        "id": "RJ1we4hcwbBY"
      },
      "outputs": [],
      "source": [
        "product_df.describe()"
      ]
    },
    {
      "cell_type": "markdown",
      "metadata": {
        "id": "zlf0wpmbwe4g"
      },
      "source": [
        "# GEOLOCATION"
      ]
    },
    {
      "cell_type": "markdown",
      "metadata": {
        "id": "E_sUeyZhE9v4"
      },
      "source": [
        "After checking or assessing that **geolocation_df** is safe, we can see from the **RangeIndex** of **geolocation_df**. There is no missing or duplicated data. The amount of data is also appropriate."
      ]
    },
    {
      "cell_type": "code",
      "execution_count": null,
      "metadata": {
        "id": "RuuKhTTW6tUp"
      },
      "outputs": [],
      "source": [
        "geolocation_df.info()"
      ]
    },
    {
      "cell_type": "code",
      "execution_count": null,
      "metadata": {
        "id": "FYHHOWPYwkUi"
      },
      "outputs": [],
      "source": [
        "geolocation_df.isna().sum()"
      ]
    },
    {
      "cell_type": "code",
      "execution_count": null,
      "metadata": {
        "id": "qfpwg4sqwqZ-"
      },
      "outputs": [],
      "source": [
        "print(\"Jumlah duplikasi: \",geolocation_df.duplicated().sum())"
      ]
    },
    {
      "cell_type": "code",
      "execution_count": null,
      "metadata": {
        "id": "P30nW7qewztz"
      },
      "outputs": [],
      "source": [
        "geolocation_df.describe()"
      ]
    },
    {
      "cell_type": "markdown",
      "metadata": {
        "id": "t4x8CUYuw7rE"
      },
      "source": [
        "# SELLERS"
      ]
    },
    {
      "cell_type": "markdown",
      "metadata": {
        "id": "HdWafNVvF5ar"
      },
      "source": [
        "After checking or assessing that **sellers_df** is safe, we can see from the **RangeIndex** of **sellers_df**. There is no missing or duplicated data. The amount of data is also appropriate."
      ]
    },
    {
      "cell_type": "code",
      "execution_count": null,
      "metadata": {
        "id": "B0c2N1Qe6ykj"
      },
      "outputs": [],
      "source": [
        "sellers_df.info()"
      ]
    },
    {
      "cell_type": "code",
      "execution_count": null,
      "metadata": {
        "id": "1ztXOPy_xAFj"
      },
      "outputs": [],
      "source": [
        "sellers_df.isna().sum()"
      ]
    },
    {
      "cell_type": "code",
      "execution_count": null,
      "metadata": {
        "id": "nu990_G4xFXe"
      },
      "outputs": [],
      "source": [
        "print(\"jumlah duplikasi: \",sellers_df.duplicated().sum())"
      ]
    },
    {
      "cell_type": "code",
      "execution_count": null,
      "metadata": {
        "id": "0COlwNK4xNg7"
      },
      "outputs": [],
      "source": [
        "sellers_df.describe()"
      ]
    },
    {
      "cell_type": "markdown",
      "metadata": {
        "id": "vvYFLAaExS6Z"
      },
      "source": [
        "# ORDERS"
      ]
    },
    {
      "cell_type": "markdown",
      "metadata": {
        "id": "p7g5aSUnGPg4"
      },
      "source": [
        "After checking or assessing **orders_df**, there is a slight difference in the amount of data available. This shows there is missing data in the column."
      ]
    },
    {
      "cell_type": "code",
      "execution_count": null,
      "metadata": {
        "id": "XrZVhWCY63E2"
      },
      "outputs": [],
      "source": [
        "orders_df.info()"
      ]
    },
    {
      "cell_type": "code",
      "execution_count": null,
      "metadata": {
        "id": "zxStG9GQ67lI"
      },
      "outputs": [],
      "source": [
        "orders_df.isna().sum()"
      ]
    },
    {
      "cell_type": "code",
      "execution_count": null,
      "metadata": {
        "id": "mSDYSA89CHO5"
      },
      "outputs": [],
      "source": [
        "print(\"Jumlah duplikasi: \",product_df.duplicated().sum())"
      ]
    },
    {
      "cell_type": "code",
      "execution_count": null,
      "metadata": {
        "id": "4FYO-eZJa22F"
      },
      "outputs": [],
      "source": [
        "orders_df.describe()"
      ]
    },
    {
      "cell_type": "markdown",
      "metadata": {
        "id": "etknACOSxp6j"
      },
      "source": [
        "# ORDER REVIEW"
      ]
    },
    {
      "cell_type": "markdown",
      "metadata": {
        "id": "07QWRy4WHOlX"
      },
      "source": [
        "After checking or assessing **orders_reviews_df**, there is a slight difference in the amount of data available. This shows that there are missing values in the column."
      ]
    },
    {
      "cell_type": "code",
      "execution_count": null,
      "metadata": {
        "id": "AF8-BvhXG-_f"
      },
      "outputs": [],
      "source": [
        "order_reviews_df.info()"
      ]
    },
    {
      "cell_type": "code",
      "execution_count": null,
      "metadata": {
        "id": "bSTUWaDnHrn8"
      },
      "outputs": [],
      "source": [
        "order_reviews_df.isna().sum()"
      ]
    },
    {
      "cell_type": "code",
      "execution_count": null,
      "metadata": {
        "id": "oAxpPbWXHzTl"
      },
      "outputs": [],
      "source": [
        "print(\"Jumlah duplikasi: \",order_reviews_df.duplicated().sum())"
      ]
    },
    {
      "cell_type": "code",
      "execution_count": null,
      "metadata": {
        "id": "vaHtUcBcxxlL"
      },
      "outputs": [],
      "source": [
        "order_reviews_df.describe()"
      ]
    },
    {
      "cell_type": "markdown",
      "metadata": {
        "id": "mSx7UP9ox7Cr"
      },
      "source": [
        "# ORDER ITEMS"
      ]
    },
    {
      "cell_type": "markdown",
      "metadata": {
        "id": "68sK3f3NIF_c"
      },
      "source": [
        "After checking or judging that **order_items_df** is safe, we can look at the RangeIndex of **order_items_df**. There is no missing or duplicated data. The amount of data is also appropriate."
      ]
    },
    {
      "cell_type": "code",
      "execution_count": null,
      "metadata": {
        "id": "7TB47oUQH_nl"
      },
      "outputs": [],
      "source": [
        "order_items_df.info()"
      ]
    },
    {
      "cell_type": "code",
      "execution_count": null,
      "metadata": {
        "id": "Sdk73Uyvx_oo"
      },
      "outputs": [],
      "source": [
        "order_items_df.isna().sum()"
      ]
    },
    {
      "cell_type": "code",
      "execution_count": null,
      "metadata": {
        "id": "R0ILjTvHyGp1"
      },
      "outputs": [],
      "source": [
        "print(\"Jumlah duplikasi: \",order_items_df.duplicated().sum())"
      ]
    },
    {
      "cell_type": "code",
      "execution_count": null,
      "metadata": {
        "id": "begcTWKUyS4l"
      },
      "outputs": [],
      "source": [
        "order_items_df.describe()"
      ]
    },
    {
      "cell_type": "markdown",
      "metadata": {
        "id": "2nb3MNjDyW53"
      },
      "source": [
        "# ORDER PAYMENTS"
      ]
    },
    {
      "cell_type": "code",
      "execution_count": null,
      "metadata": {
        "id": "X-vsny5gKDmr"
      },
      "outputs": [],
      "source": [
        "order_payments_df.info()"
      ]
    },
    {
      "cell_type": "code",
      "execution_count": null,
      "metadata": {
        "id": "YzajmOnGyfRQ"
      },
      "outputs": [],
      "source": [
        "order_payments_df.isna().sum()"
      ]
    },
    {
      "cell_type": "code",
      "execution_count": null,
      "metadata": {
        "id": "wX8cAqbFymT2"
      },
      "outputs": [],
      "source": [
        "print(\"Jumlah duplikasi: \",order_payments_df.duplicated().sum())"
      ]
    },
    {
      "cell_type": "code",
      "execution_count": null,
      "metadata": {
        "id": "2Z1IvUQxyshK"
      },
      "outputs": [],
      "source": [
        "order_payments_df.describe()"
      ]
    },
    {
      "cell_type": "markdown",
      "metadata": {
        "id": "vdSddKSHyy1c"
      },
      "source": [
        "# PRODUCT CATEGORY NAME TRANSLATION"
      ]
    },
    {
      "cell_type": "markdown",
      "metadata": {
        "id": "fzAH4pSpKQT6"
      },
      "source": [
        "After checking or judging that **product_category_name_translation_df** is safe, we can look at the **RangeIndex** of **product_category_name_translation_df**. There is no missing or duplicated data. The amount of data is also appropriate."
      ]
    },
    {
      "cell_type": "code",
      "execution_count": null,
      "metadata": {
        "id": "HjqE7ELMKHm5"
      },
      "outputs": [],
      "source": [
        "product_category_name_translation_df.info()"
      ]
    },
    {
      "cell_type": "code",
      "execution_count": null,
      "metadata": {
        "id": "GjhEqVIQy6Hz"
      },
      "outputs": [],
      "source": [
        "product_category_name_translation_df.isna().sum()"
      ]
    },
    {
      "cell_type": "code",
      "execution_count": null,
      "metadata": {
        "id": "ClZcvylxy-1n"
      },
      "outputs": [],
      "source": [
        "print(\"Jumlah duplikasi: \",product_category_name_translation_df.duplicated().sum())"
      ]
    },
    {
      "cell_type": "code",
      "execution_count": null,
      "metadata": {
        "id": "PnH5bVsHzH_S"
      },
      "outputs": [],
      "source": [
        "product_category_name_translation_df.describe()"
      ]
    },
    {
      "cell_type": "markdown",
      "metadata": {
        "id": "EhN5R4hr8DC1"
      },
      "source": [
        "### Cleaning Data"
      ]
    },
    {
      "cell_type": "markdown",
      "metadata": {
        "id": "0ZYJM9DCaLZd"
      },
      "source": [
        "If there are problems such as missing values or outliers found in the data at the previous stage, it is important to clean the data before entering the analysis stage. There are several techniques that can be used to perform this data cleaning."
      ]
    },
    {
      "cell_type": "code",
      "execution_count": null,
      "metadata": {
        "id": "jVnYpprE9Evz"
      },
      "outputs": [],
      "source": [
        "geolocation_df.drop_duplicates(inplace=True)\n",
        "print(\"Jumlah duplikasi: \", geolocation_df.duplicated().sum())"
      ]
    },
    {
      "cell_type": "code",
      "execution_count": null,
      "metadata": {
        "id": "89r9ORg51RGX"
      },
      "outputs": [],
      "source": [
        "product_df[product_df.product_category_name.isna()]\n",
        "product_df.product_category_name.value_counts()"
      ]
    },
    {
      "cell_type": "code",
      "execution_count": null,
      "metadata": {
        "id": "Yi2tGLt31b-P"
      },
      "outputs": [],
      "source": [
        "product_df.fillna(value=\"cama_mesa_banho\", inplace=True)"
      ]
    },
    {
      "cell_type": "code",
      "execution_count": null,
      "metadata": {
        "id": "DbEvIZdZ1h1j"
      },
      "outputs": [],
      "source": [
        "product_df.isna().sum()"
      ]
    },
    {
      "cell_type": "code",
      "execution_count": null,
      "metadata": {
        "id": "RI4Zj_3u1lmc"
      },
      "outputs": [],
      "source": [
        "orders_df[orders_df.order_delivered_customer_date.isna()]\n",
        "orders_df.order_delivered_customer_date.value_counts()"
      ]
    },
    {
      "cell_type": "code",
      "execution_count": null,
      "metadata": {
        "id": "pmT00tSq1ou2"
      },
      "outputs": [],
      "source": [
        "orders_df.fillna(value=\"2018-05-08 23:38:46\", inplace=True)"
      ]
    },
    {
      "cell_type": "code",
      "execution_count": null,
      "metadata": {
        "id": "oQ9xGiNO1sHg"
      },
      "outputs": [],
      "source": [
        "orders_df.isna().sum()"
      ]
    },
    {
      "cell_type": "code",
      "execution_count": null,
      "metadata": {
        "id": "c7DTDz1p1vkI"
      },
      "outputs": [],
      "source": [
        "order_reviews_df[order_reviews_df.review_comment_title.isna()]\n",
        "order_reviews_df.review_comment_title.value_counts()"
      ]
    },
    {
      "cell_type": "code",
      "execution_count": null,
      "metadata": {
        "id": "b9-svTBc1zW0"
      },
      "outputs": [],
      "source": [
        "order_reviews_df.fillna(value=\"Recomendo\", inplace=True)"
      ]
    },
    {
      "cell_type": "code",
      "execution_count": null,
      "metadata": {
        "id": "NSj_V0Hc12Pg"
      },
      "outputs": [],
      "source": [
        "order_reviews_df.isna().sum()"
      ]
    },
    {
      "cell_type": "markdown",
      "metadata": {
        "id": "gp-Y6wU38DC1"
      },
      "source": [
        "## Exploratory Data Analysis (EDA)"
      ]
    },
    {
      "cell_type": "markdown",
      "metadata": {
        "id": "MW7WF2kr8DC1"
      },
      "source": [
        "### Explore ..."
      ]
    },
    {
      "cell_type": "code",
      "execution_count": null,
      "metadata": {
        "id": "e9CQCZjk8DC2"
      },
      "outputs": [],
      "source": [
        "customers_df.describe(include=\"all\")"
      ]
    },
    {
      "cell_type": "code",
      "execution_count": null,
      "metadata": {
        "id": "ySBgxqAK4gr4"
      },
      "outputs": [],
      "source": [
        "customers_df.groupby(by=\"customer_city\").customer_id.nunique().sort_values(ascending=False)\n",
        "customers_df.groupby(by=\"customer_state\").customer_id.nunique().sort_values(ascending=False)"
      ]
    },
    {
      "cell_type": "code",
      "execution_count": null,
      "metadata": {
        "id": "0lFZTcTn3Xym"
      },
      "outputs": [],
      "source": [
        "order_payments_df.describe(include=\"all\")"
      ]
    },
    {
      "cell_type": "markdown",
      "metadata": {
        "id": "zsyZjqak8DC2"
      },
      "source": [
        "## Visualization & Explanatory Analysis"
      ]
    },
    {
      "cell_type": "markdown",
      "metadata": {
        "id": "HZxOiQ6n8DC2"
      },
      "source": [
        "### Pertanyaan 1 : Which state generates the most customers?\n"
      ]
    },
    {
      "cell_type": "code",
      "execution_count": null,
      "metadata": {
        "id": "1swJUdAD8DC2"
      },
      "outputs": [],
      "source": [
        "import matplotlib.pyplot as plt\n",
        "\n",
        "# Data\n",
        "customer_state = {\n",
        "    'SP': 41746,\n",
        "    'RJ': 12852,\n",
        "    'MG': 11635,\n",
        "    'RS': 5466,\n",
        "    'PR': 5045,\n",
        "    'SC': 3637,\n",
        "    'BA': 3380,\n",
        "    'DF': 2140,\n",
        "    'ES': 2033,\n",
        "    'GO': 2020,\n",
        "    'PE': 1652,\n",
        "    'CE': 1336,\n",
        "    'PA': 975,\n",
        "    'MT': 907,\n",
        "    'MA': 747,\n",
        "    'MS': 715,\n",
        "    'PB': 536,\n",
        "    'PI': 495,\n",
        "    'RN': 485,\n",
        "    'AL': 413,\n",
        "    'SE': 350,\n",
        "    'TO': 280,\n",
        "    'RO': 253,\n",
        "    'AM': 148,\n",
        "    'AC': 81,\n",
        "    'AP': 68,\n",
        "    'RR': 46\n",
        "}\n",
        "\n",
        "# Plot\n",
        "plt.figure(figsize=(12, 8))\n",
        "plt.bar(customer_state.keys(), customer_state.values(), color='skyblue')\n",
        "plt.title('Number of Customers by State')\n",
        "plt.xlabel('State')\n",
        "plt.ylabel('Number of Customers')\n",
        "plt.xticks(rotation=45, ha='right')\n",
        "plt.tight_layout()\n",
        "plt.show()"
      ]
    },
    {
      "cell_type": "markdown",
      "metadata": {
        "id": "DgHI7CiU8DC2"
      },
      "source": [
        "### Pertanyaan 2 : How many canceled and successful orders are there?"
      ]
    },
    {
      "cell_type": "code",
      "execution_count": null,
      "metadata": {
        "id": "Go0lCsvO8DC2"
      },
      "outputs": [],
      "source": [
        "orders_df[\"order_delivered_customer_date\"] = pd.to_datetime(orders_df[\"order_delivered_customer_date\"])"
      ]
    },
    {
      "cell_type": "code",
      "source": [
        "order_canceled_df = orders_df[orders_df[\"order_status\"] == \"canceled\"].resample(rule='M', on='order_delivered_customer_date').agg({\n",
        "  \"order_id\": \"nunique\",\n",
        "})\n",
        "order_canceled_df.index = order_canceled_df.index.strftime(\"%Y-%m\")\n",
        "order_canceled_df = order_canceled_df.reset_index()\n",
        "order_canceled_df.rename(columns={\n",
        "    \"order_id\": \"canceled\"\n",
        "}, inplace=True)\n",
        "\n",
        "order_canceled_df"
      ],
      "metadata": {
        "id": "cvmuW6FspFfQ"
      },
      "execution_count": null,
      "outputs": []
    },
    {
      "cell_type": "code",
      "source": [
        "order_delivered_df = orders_df[orders_df[\"order_status\"] == \"delivered\"].resample(rule='M', on='order_delivered_customer_date').agg({\n",
        "  \"order_id\": \"nunique\",\n",
        "})\n",
        "order_delivered_df.index = order_delivered_df.index.strftime(\"%Y-%m\")\n",
        "order_delivered_df = order_delivered_df.reset_index()\n",
        "order_delivered_df.rename(columns={\n",
        "    \"order_id\": \"delivered\"\n",
        "}, inplace=True)\n",
        "\n",
        "order_delivered_df"
      ],
      "metadata": {
        "id": "xHVZy6yeq-4D"
      },
      "execution_count": null,
      "outputs": []
    },
    {
      "cell_type": "code",
      "source": [
        "order_canceled_df = order_canceled_df[order_canceled_df[\"order_delivered_customer_date\"].str.contains(r'2018-0[1-5]')]\n",
        "order_delivered_df = order_delivered_df[order_delivered_df[\"order_delivered_customer_date\"].str.contains(r'2018-0[1-5]')]"
      ],
      "metadata": {
        "id": "HeGmM8tIwttP"
      },
      "execution_count": null,
      "outputs": []
    },
    {
      "cell_type": "code",
      "source": [
        "plt.figure(figsize=(12, 5))\n",
        "plt.plot(order_canceled_df[\"order_delivered_customer_date\"].sort_values(ascending=True).head(5), order_canceled_df['canceled'], label='Canceled', color='red')\n",
        "plt.plot(order_delivered_df[\"order_delivered_customer_date\"].sort_values(ascending=True).head(5), order_delivered_df['delivered'], label='Delivered', color='green')\n",
        "plt.title('Canceled and Delivered Order', size=20)\n",
        "plt.xlabel('Date',size=15)\n",
        "plt.ylabel('Status',size=15)\n",
        "plt.legend()\n",
        "plt.show()"
      ],
      "metadata": {
        "id": "uHeRRNKty3nS"
      },
      "execution_count": null,
      "outputs": []
    },
    {
      "cell_type": "markdown",
      "metadata": {
        "id": "_WeHlCeX8DC2"
      },
      "source": [
        "## Conclusion"
      ]
    },
    {
      "cell_type": "markdown",
      "metadata": {
        "id": "ZTcyR48Y8DC2"
      },
      "source": [
        "- Conclution pertanyaan 1\n",
        "- Conclution pertanyaan 2"
      ]
    },
    {
      "cell_type": "code",
      "source": [
        "!pip install streamlit babel -q\n",
        "!wget -q -O - ipv4.icanhazip.com\n",
        "! streamlit run dashboard.py & npx localtunnel --port 8501"
      ],
      "metadata": {
        "id": "hLjLLf1U5H8H"
      },
      "execution_count": null,
      "outputs": []
    },
    {
      "cell_type": "code",
      "source": [
        "orders_df.to_csv(\"orders_data.csv\", index=False)"
      ],
      "metadata": {
        "id": "8TtGAnmMJhps"
      },
      "execution_count": null,
      "outputs": []
    }
  ],
  "metadata": {
    "colab": {
      "provenance": [],
      "include_colab_link": true
    },
    "kernelspec": {
      "display_name": "Python 3",
      "language": "python",
      "name": "python3"
    },
    "language_info": {
      "name": "python",
      "version": "3.8.0 (tags/v3.8.0:fa919fd, Oct 14 2019, 19:21:23) [MSC v.1916 32 bit (Intel)]"
    },
    "vscode": {
      "interpreter": {
        "hash": "972b3bf27e332e87b5379f2791f6ef9dfc79c71018c370b0d7423235e20fe4d7"
      }
    }
  },
  "nbformat": 4,
  "nbformat_minor": 0
}